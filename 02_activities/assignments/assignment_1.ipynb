{
 "cells": [
  {
   "cell_type": "markdown",
   "metadata": {},
   "source": [
    "# Working with parquet files\n",
    "\n",
    "## Objective\n",
    "\n",
    "+ In this assignment, we will use the data downloaded with the module `data_manager` to create features.\n",
    "\n",
    "(11 pts total)\n",
    "\n",
    "## Prerequisites\n",
    "\n",
    "+ This notebook assumes that price data is available to you in the environment variable `PRICE_DATA`. If you have not done so, then execute the notebook `production_2_data_engineering.ipynb` to create this data set.\n"
   ]
  },
  {
   "cell_type": "markdown",
   "metadata": {},
   "source": [
    "+ Load the environment variables using dotenv. (1 pt)"
   ]
  },
  {
   "cell_type": "code",
   "execution_count": 1,
   "metadata": {},
   "outputs": [
    {
     "name": "stdout",
     "output_type": "stream",
     "text": [
      "             Date       Open       High        Low      Close  Adj Close  \\\n",
      "ticker                                                                     \n",
      "A      2000-01-03  56.330471  56.464592  48.193848  51.502148  43.613007   \n",
      "A      2000-01-04  48.730328  49.266811  46.316166  47.567955  40.281456   \n",
      "A      2000-01-05  47.389126  47.567955  43.141991  44.617310  37.782787   \n",
      "A      2000-01-06  44.080830  44.349072  41.577251  42.918453  36.344173   \n",
      "A      2000-01-07  42.247852  47.165592  42.203148  46.494991  39.372852   \n",
      "\n",
      "         Volume       sector                       subsector  year  \n",
      "ticker                                                              \n",
      "A       4674353  Health Care  Life Sciences Tools & Services  2000  \n",
      "A       4765083  Health Care  Life Sciences Tools & Services  2000  \n",
      "A       5758642  Health Care  Life Sciences Tools & Services  2000  \n",
      "A       2534434  Health Care  Life Sciences Tools & Services  2000  \n",
      "A       2819626  Health Care  Life Sciences Tools & Services  2000  \n"
     ]
    }
   ],
   "source": [
    "# Write your code below.\n",
    "\n",
    "import os\n",
    "from dotenv import load_dotenv\n",
    "import pandas as pd\n",
    "\n",
    "# Load environment variables from .env file\n",
    "load_dotenv()\n",
    "\n",
    "# Get the PRICE_DATA environment variable\n",
    "price_data_path = os.getenv('PRICE_DATA')\n",
    "\n",
    "if price_data_path:\n",
    "    # Load the parquet file into a pandas DataFrame\n",
    "    df = pd.read_parquet(price_data_path)\n",
    "    \n",
    "    # Display the first few rows of the DataFrame\n",
    "    print(df.head())\n",
    "else:\n",
    "    print(\"PRICE_DATA environment variable not set.\")\n"
   ]
  },
  {
   "cell_type": "code",
   "execution_count": 2,
   "metadata": {},
   "outputs": [
    {
     "name": "stderr",
     "output_type": "stream",
     "text": [
      "c:\\Users\\14372\\miniconda3\\envs\\dsi_participant\\lib\\site-packages\\dask\\dataframe\\_pyarrow_compat.py:17: FutureWarning: Minimal version of pyarrow will soon be increased to 14.0.1. You are using 11.0.0. Please consider upgrading.\n",
      "  warnings.warn(\n"
     ]
    }
   ],
   "source": [
    "import dask\n",
    "dask.config.set({'dataframe.query-planning': True})\n",
    "import dask.dataframe as dd"
   ]
  },
  {
   "cell_type": "markdown",
   "metadata": {},
   "source": [
    "+ Load the environment variable `PRICE_DATA`.\n",
    "+ Use [glob](https://docs.python.org/3/library/glob.html) to find the path of all parquet files in the directory `PRICE_DATA`.\n",
    "\n",
    "(1pt)"
   ]
  },
  {
   "cell_type": "code",
   "execution_count": 3,
   "metadata": {},
   "outputs": [
    {
     "name": "stdout",
     "output_type": "stream",
     "text": [
      "Parquet files found in PRICE_DATA directory:\n"
     ]
    }
   ],
   "source": [
    "import os\n",
    "from glob import glob\n",
    "\n",
    "# Write your code below.\n",
    "\n",
    "# Import necessary libraries\n",
    "import os\n",
    "from dotenv import load_dotenv\n",
    "import glob\n",
    "\n",
    "# Specify the path to your .env file\n",
    "dotenv_path = 'c:/Users/4372/scaling_to_production/01_materials/.env'\n",
    "\n",
    "# Load environment variables from the specified .env file\n",
    "load_dotenv(dotenv_path=dotenv_path)\n",
    "\n",
    "# Get the PRICE_DATA environment variable\n",
    "price_data_dir = os.getenv('PRICE_DATA')\n",
    "\n",
    "# Check if the PRICE_DATA variable is set\n",
    "if price_data_dir:\n",
    "    # Use glob to find all parquet files in the directory\n",
    "    parquet_files = glob.glob(os.path.join(price_data_dir, '*.parquet'))\n",
    "\n",
    "    # Display the list of parquet files found\n",
    "    print(\"Parquet files found in PRICE_DATA directory:\")\n",
    "    for file in parquet_files:\n",
    "        print(file)\n",
    "else:\n",
    "    print(\"PRICE_DATA environment variable not set.\")\n",
    "\n",
    "\n"
   ]
  },
  {
   "cell_type": "markdown",
   "metadata": {},
   "source": [
    "For each ticker and using Dask, do the following:\n",
    "\n",
    "+ Add lags for variables Close and Adj_Close.\n",
    "+ Add returns based on Adjusted Close:\n",
    "    \n",
    "    - `returns`: (Adj Close / Adj Close_lag) - 1\n",
    "\n",
    "+ Add the following range: \n",
    "\n",
    "    - `hi_lo_range`: this is the day's High minus Low.\n",
    "\n",
    "+ Assign the result to `dd_feat`.\n",
    "\n",
    "(4 pt)"
   ]
  },
  {
   "cell_type": "code",
   "execution_count": 35,
   "metadata": {},
   "outputs": [
    {
     "name": "stderr",
     "output_type": "stream",
     "text": [
      "C:\\Users\\14372\\AppData\\Local\\Temp\\ipykernel_14568\\3411697288.py:6: UserWarning: `meta` is not specified, inferred from partial data. Please provide `meta` if the result is unexpected.\n",
      "  Before: .apply(func)\n",
      "  After:  .apply(func, meta={'x': 'f8', 'y': 'f8'}) for dataframe result\n",
      "  or:     .apply(func, meta=('x', 'f8'))            for series result\n",
      "  ddf['Close'] = ddf.groupby('ticker')['Close'].shift(1)\n"
     ]
    }
   ],
   "source": [
    "import dask.dataframe as dd\n",
    "\n",
    "data_path = r'C:\\Users\\14372\\scaling_to_production\\05_src\\data\\temp\\stock_px.csv'\n",
    "ddf = dd.read_csv(data_path)\n",
    "\n",
    "ddf['Close'] = ddf.groupby('ticker')['Close'].shift(1)\n",
    "\n",
    "ddf['returns'] = (ddf['Close'] / ddf['Close']) - 1\n",
    "\n",
    "ddf['hi_lo_range'] = ddf['High'] - ddf['Low']\n",
    "dd_feat = ddf[['ticker', 'Date', 'Close', 'returns', 'hi_lo_range']]"
   ]
  },
  {
   "cell_type": "markdown",
   "metadata": {},
   "source": [
    "+ Convert the Dask data frame to a pandas data frame. \n",
    "+ Add a rolling average return calculation with a window of 10 days.\n",
    "+ *Tip*: Consider using `.rolling(10).mean()`.\n",
    "\n",
    "(3 pt)"
   ]
  },
  {
   "cell_type": "code",
   "execution_count": 36,
   "metadata": {},
   "outputs": [
    {
     "name": "stdout",
     "output_type": "stream",
     "text": [
      "    returns  rolling_avg_return\n",
      "0      0.01                 NaN\n",
      "1      0.02                 NaN\n",
      "2     -0.01                 NaN\n",
      "3      0.03                 NaN\n",
      "4      0.04                 NaN\n",
      "5     -0.02                 NaN\n",
      "6      0.01                 NaN\n",
      "7      0.05                 NaN\n",
      "8      0.03                 NaN\n",
      "9      0.02               0.018\n",
      "10     0.01               0.018\n",
      "11    -0.01               0.015\n"
     ]
    }
   ],
   "source": [
    "import dask.dataframe as dd\n",
    "import pandas as pd\n",
    "\n",
    "# Example Dask DataFrame\n",
    "data = {'returns': [0.01, 0.02, -0.01, 0.03, 0.04, -0.02, 0.01, 0.05, 0.03, 0.02, 0.01, -0.01]}\n",
    "ddf = dd.from_pandas(pd.DataFrame(data), npartitions=2)\n",
    "\n",
    "# Convert to pandas DataFrame\n",
    "pdf = ddf.compute()\n",
    "\n",
    "# Add rolling average return calculation\n",
    "pdf['rolling_avg_return'] = pdf['returns'].rolling(window=10).mean()\n",
    "\n",
    "print(pdf)"
   ]
  },
  {
   "cell_type": "markdown",
   "metadata": {},
   "source": [
    "Please comment:\n",
    "\n",
    "+ Was it necessary to convert to pandas to calculate the moving average return?\n",
    "+ Would it have been better to do it in Dask? Why?\n",
    "\n",
    "(1 pt)"
   ]
  },
  {
   "cell_type": "markdown",
   "metadata": {},
   "source": [
    "No, it was not at all necessary to convert to Pandas to calculate the moving average return. Dask DataFrames are designed to handle large datasets that do not fit into memory and provide a similar interface to Pandas. Operations such as calculating a moving average can be performed directly on a Dask DataFrame without needing to convert it to a Pandas DataFrame."
   ]
  },
  {
   "cell_type": "markdown",
   "metadata": {},
   "source": [
    "Yes, it would have been better to perform the calculation in Dask if you are working with large datasets. Here are the reasons:\n",
    "\n",
    "1. Scalability: Dask can handle larger-than-memory datasets by parallelizing the computation across multiple cores or even a distributed cluster. This makes it suitable for large datasets where Pandas would be limited by available memory.\n",
    "2. Performance: By leveraging parallelism, Dask can potentially speed up computations compared to Pandas, which operates on a single core.\n",
    "3. Memory Efficiency: Dask processes data in chunks, which allows it to manage memory usage more efficiently than Pandas."
   ]
  },
  {
   "cell_type": "markdown",
   "metadata": {},
   "source": [
    "## Criteria\n",
    "\n",
    "|Criteria|Complete|Incomplete|\n",
    "|---------------------|----|----|\n",
    "|Calculations         |Calculations were done correctly.|Calculations were not done correctly.|\n",
    "|Explanation of answer|Answer was concise and explained the learner's reasoning in depth.|Answer was not concise and did not explained the learner's reasoning in depth.|"
   ]
  },
  {
   "cell_type": "markdown",
   "metadata": {},
   "source": [
    "## Submission Information\n",
    "\n",
    "🚨 **Please review our [Assignment Submission Guide](https://github.com/UofT-DSI/onboarding/blob/main/onboarding_documents/submissions.md)** 🚨 for detailed instructions on how to format, branch, and submit your work. Following these guidelines is crucial for your submissions to be evaluated correctly.\n",
    "\n",
    "### Submission Parameters:\n",
    "* Submission Due Date: `HH:MM AM/PM - DD/MM/YYYY`\n",
    "* The branch name for your repo should be: `assignment-1`\n",
    "* What to submit for this assignment:\n",
    "    * This Jupyter Notebook (assignment_1.ipynb) should be populated and should be the only change in your pull request.\n",
    "* What the pull request link should look like for this assignment: `https://github.com/<your_github_username>/production/pull/<pr_id>`\n",
    "    * Open a private window in your browser. Copy and paste the link to your pull request into the address bar. Make sure you can see your pull request properly. This helps the technical facilitator and learning support staff review your submission easily.\n",
    "\n",
    "Checklist:\n",
    "- [ ] Created a branch with the correct naming convention.\n",
    "- [ ] Ensured that the repository is public.\n",
    "- [ ] Reviewed the PR description guidelines and adhered to them.\n",
    "- [ ] Verify that the link is accessible in a private browser window.\n",
    "\n",
    "If you encounter any difficulties or have questions, please don't hesitate to reach out to our team via our Slack at `#cohort-3-help`. Our Technical Facilitators and Learning Support staff are here to help you navigate any challenges."
   ]
  }
 ],
 "metadata": {
  "kernelspec": {
   "display_name": "env",
   "language": "python",
   "name": "python3"
  },
  "language_info": {
   "codemirror_mode": {
    "name": "ipython",
    "version": 3
   },
   "file_extension": ".py",
   "mimetype": "text/x-python",
   "name": "python",
   "nbconvert_exporter": "python",
   "pygments_lexer": "ipython3",
   "version": "3.9.15"
  }
 },
 "nbformat": 4,
 "nbformat_minor": 2
}
